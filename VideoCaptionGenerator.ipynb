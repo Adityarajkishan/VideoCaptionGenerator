{
  "nbformat": 4,
  "nbformat_minor": 0,
  "metadata": {
    "colab": {
      "provenance": [],
      "authorship_tag": "ABX9TyO+lrqU7eiacW3/3m85YiLo",
      "include_colab_link": true
    },
    "kernelspec": {
      "name": "python3",
      "display_name": "Python 3"
    },
    "language_info": {
      "name": "python"
    }
  },
  "cells": [
    {
      "cell_type": "markdown",
      "metadata": {
        "id": "view-in-github",
        "colab_type": "text"
      },
      "source": [
        "<a href=\"https://colab.research.google.com/github/Adityarajkishan/VideoCaptionGenerator/blob/main/VideoCaptionGenerator.ipynb\" target=\"_parent\"><img src=\"https://colab.research.google.com/assets/colab-badge.svg\" alt=\"Open In Colab\"/></a>"
      ]
    },
    {
      "cell_type": "code",
      "execution_count": null,
      "metadata": {
        "id": "xwKwzOn-5CuG",
        "colab": {
          "base_uri": "https://localhost:8080/",
          "height": 654
        },
        "outputId": "48002b88-f8d8-416b-e08d-0718919a8e72"
      },
      "outputs": [
        {
          "output_type": "stream",
          "name": "stdout",
          "text": [
            "Requirement already satisfied: moviepy in /usr/local/lib/python3.10/dist-packages (1.0.3)\n",
            "Collecting google-cloud-speech\n",
            "  Downloading google_cloud_speech-2.21.0-py2.py3-none-any.whl (273 kB)\n",
            "\u001b[2K     \u001b[90m━━━━━━━━━━━━━━━━━━━━━━━━━━━━━━━━━━━━━━━\u001b[0m \u001b[32m273.7/273.7 kB\u001b[0m \u001b[31m4.1 MB/s\u001b[0m eta \u001b[36m0:00:00\u001b[0m\n",
            "\u001b[?25hRequirement already satisfied: decorator<5.0,>=4.0.2 in /usr/local/lib/python3.10/dist-packages (from moviepy) (4.4.2)\n",
            "Requirement already satisfied: tqdm<5.0,>=4.11.2 in /usr/local/lib/python3.10/dist-packages (from moviepy) (4.66.1)\n",
            "Requirement already satisfied: requests<3.0,>=2.8.1 in /usr/local/lib/python3.10/dist-packages (from moviepy) (2.31.0)\n",
            "Requirement already satisfied: proglog<=1.0.0 in /usr/local/lib/python3.10/dist-packages (from moviepy) (0.1.10)\n",
            "Requirement already satisfied: numpy>=1.17.3 in /usr/local/lib/python3.10/dist-packages (from moviepy) (1.23.5)\n",
            "Requirement already satisfied: imageio<3.0,>=2.5 in /usr/local/lib/python3.10/dist-packages (from moviepy) (2.31.3)\n",
            "Requirement already satisfied: imageio-ffmpeg>=0.2.0 in /usr/local/lib/python3.10/dist-packages (from moviepy) (0.4.8)\n",
            "Requirement already satisfied: google-api-core[grpc]!=2.0.*,!=2.1.*,!=2.10.*,!=2.2.*,!=2.3.*,!=2.4.*,!=2.5.*,!=2.6.*,!=2.7.*,!=2.8.*,!=2.9.*,<3.0.0dev,>=1.34.0 in /usr/local/lib/python3.10/dist-packages (from google-cloud-speech) (2.11.1)\n",
            "Requirement already satisfied: proto-plus<2.0.0dev,>=1.22.0 in /usr/local/lib/python3.10/dist-packages (from google-cloud-speech) (1.22.3)\n",
            "Requirement already satisfied: protobuf!=3.20.0,!=3.20.1,!=4.21.0,!=4.21.1,!=4.21.2,!=4.21.3,!=4.21.4,!=4.21.5,<5.0.0dev,>=3.19.5 in /usr/local/lib/python3.10/dist-packages (from google-cloud-speech) (3.20.3)\n",
            "Requirement already satisfied: googleapis-common-protos<2.0.dev0,>=1.56.2 in /usr/local/lib/python3.10/dist-packages (from google-api-core[grpc]!=2.0.*,!=2.1.*,!=2.10.*,!=2.2.*,!=2.3.*,!=2.4.*,!=2.5.*,!=2.6.*,!=2.7.*,!=2.8.*,!=2.9.*,<3.0.0dev,>=1.34.0->google-cloud-speech) (1.60.0)\n",
            "Requirement already satisfied: google-auth<3.0.dev0,>=2.14.1 in /usr/local/lib/python3.10/dist-packages (from google-api-core[grpc]!=2.0.*,!=2.1.*,!=2.10.*,!=2.2.*,!=2.3.*,!=2.4.*,!=2.5.*,!=2.6.*,!=2.7.*,!=2.8.*,!=2.9.*,<3.0.0dev,>=1.34.0->google-cloud-speech) (2.17.3)\n",
            "Requirement already satisfied: grpcio<2.0dev,>=1.33.2 in /usr/local/lib/python3.10/dist-packages (from google-api-core[grpc]!=2.0.*,!=2.1.*,!=2.10.*,!=2.2.*,!=2.3.*,!=2.4.*,!=2.5.*,!=2.6.*,!=2.7.*,!=2.8.*,!=2.9.*,<3.0.0dev,>=1.34.0->google-cloud-speech) (1.57.0)\n",
            "Requirement already satisfied: grpcio-status<2.0.dev0,>=1.33.2 in /usr/local/lib/python3.10/dist-packages (from google-api-core[grpc]!=2.0.*,!=2.1.*,!=2.10.*,!=2.2.*,!=2.3.*,!=2.4.*,!=2.5.*,!=2.6.*,!=2.7.*,!=2.8.*,!=2.9.*,<3.0.0dev,>=1.34.0->google-cloud-speech) (1.48.2)\n",
            "Requirement already satisfied: pillow>=8.3.2 in /usr/local/lib/python3.10/dist-packages (from imageio<3.0,>=2.5->moviepy) (9.4.0)\n",
            "Requirement already satisfied: charset-normalizer<4,>=2 in /usr/local/lib/python3.10/dist-packages (from requests<3.0,>=2.8.1->moviepy) (3.2.0)\n",
            "Requirement already satisfied: idna<4,>=2.5 in /usr/local/lib/python3.10/dist-packages (from requests<3.0,>=2.8.1->moviepy) (3.4)\n",
            "Requirement already satisfied: urllib3<3,>=1.21.1 in /usr/local/lib/python3.10/dist-packages (from requests<3.0,>=2.8.1->moviepy) (2.0.4)\n",
            "Requirement already satisfied: certifi>=2017.4.17 in /usr/local/lib/python3.10/dist-packages (from requests<3.0,>=2.8.1->moviepy) (2023.7.22)\n",
            "Requirement already satisfied: cachetools<6.0,>=2.0.0 in /usr/local/lib/python3.10/dist-packages (from google-auth<3.0.dev0,>=2.14.1->google-api-core[grpc]!=2.0.*,!=2.1.*,!=2.10.*,!=2.2.*,!=2.3.*,!=2.4.*,!=2.5.*,!=2.6.*,!=2.7.*,!=2.8.*,!=2.9.*,<3.0.0dev,>=1.34.0->google-cloud-speech) (5.3.1)\n",
            "Requirement already satisfied: pyasn1-modules>=0.2.1 in /usr/local/lib/python3.10/dist-packages (from google-auth<3.0.dev0,>=2.14.1->google-api-core[grpc]!=2.0.*,!=2.1.*,!=2.10.*,!=2.2.*,!=2.3.*,!=2.4.*,!=2.5.*,!=2.6.*,!=2.7.*,!=2.8.*,!=2.9.*,<3.0.0dev,>=1.34.0->google-cloud-speech) (0.3.0)\n",
            "Requirement already satisfied: six>=1.9.0 in /usr/local/lib/python3.10/dist-packages (from google-auth<3.0.dev0,>=2.14.1->google-api-core[grpc]!=2.0.*,!=2.1.*,!=2.10.*,!=2.2.*,!=2.3.*,!=2.4.*,!=2.5.*,!=2.6.*,!=2.7.*,!=2.8.*,!=2.9.*,<3.0.0dev,>=1.34.0->google-cloud-speech) (1.16.0)\n",
            "Requirement already satisfied: rsa<5,>=3.1.4 in /usr/local/lib/python3.10/dist-packages (from google-auth<3.0.dev0,>=2.14.1->google-api-core[grpc]!=2.0.*,!=2.1.*,!=2.10.*,!=2.2.*,!=2.3.*,!=2.4.*,!=2.5.*,!=2.6.*,!=2.7.*,!=2.8.*,!=2.9.*,<3.0.0dev,>=1.34.0->google-cloud-speech) (4.9)\n",
            "Requirement already satisfied: pyasn1<0.6.0,>=0.4.6 in /usr/local/lib/python3.10/dist-packages (from pyasn1-modules>=0.2.1->google-auth<3.0.dev0,>=2.14.1->google-api-core[grpc]!=2.0.*,!=2.1.*,!=2.10.*,!=2.2.*,!=2.3.*,!=2.4.*,!=2.5.*,!=2.6.*,!=2.7.*,!=2.8.*,!=2.9.*,<3.0.0dev,>=1.34.0->google-cloud-speech) (0.5.0)\n",
            "Installing collected packages: google-cloud-speech\n",
            "Successfully installed google-cloud-speech-2.21.0\n"
          ]
        },
        {
          "output_type": "display_data",
          "data": {
            "application/vnd.colab-display-data+json": {
              "pip_warning": {
                "packages": [
                  "google"
                ]
              }
            }
          },
          "metadata": {}
        }
      ],
      "source": [
        "!pip install moviepy google-cloud-speech"
      ]
    },
    {
      "cell_type": "code",
      "source": [
        "from moviepy.editor import VideoFileClip\n",
        "from google.cloud import speech_v1p1beta1 as speech"
      ],
      "metadata": {
        "id": "mID64FmJ5QJl"
      },
      "execution_count": null,
      "outputs": []
    },
    {
      "cell_type": "code",
      "source": [
        "def extract_audio(video_path, audio_path):\n",
        "    video = VideoFileClip(video_path)\n",
        "    video.audio.write_audiofile(audio_path)"
      ],
      "metadata": {
        "id": "O_wIN3OR5TD3"
      },
      "execution_count": null,
      "outputs": []
    },
    {
      "cell_type": "code",
      "source": [
        "from google.colab import drive\n",
        "drive.mount('/content/drive')"
      ],
      "metadata": {
        "colab": {
          "base_uri": "https://localhost:8080/"
        },
        "id": "kDtRvMqB5dYA",
        "outputId": "ae808580-3c6f-4a78-c301-88ce16427add"
      },
      "execution_count": null,
      "outputs": [
        {
          "output_type": "stream",
          "name": "stdout",
          "text": [
            "Mounted at /content/drive\n"
          ]
        }
      ]
    },
    {
      "cell_type": "code",
      "source": [
        "video_path = \"/content/drive/MyDrive/input_video.mp4\"\n",
        "audio_path = \"/content/drive/MyDrive/output_audio.wav\""
      ],
      "metadata": {
        "id": "K8Oijniw8NW3"
      },
      "execution_count": null,
      "outputs": []
    },
    {
      "cell_type": "code",
      "source": [
        "extract_audio(video_path, audio_path)"
      ],
      "metadata": {
        "colab": {
          "base_uri": "https://localhost:8080/"
        },
        "id": "7oKHgSKz8Q6L",
        "outputId": "f994fa4f-9271-4c20-ad6b-611e46705e1c"
      },
      "execution_count": null,
      "outputs": [
        {
          "output_type": "stream",
          "name": "stdout",
          "text": [
            "MoviePy - Writing audio in /content/drive/MyDrive/output_audio.wav\n"
          ]
        },
        {
          "output_type": "stream",
          "name": "stderr",
          "text": [
            "                                                                      "
          ]
        },
        {
          "output_type": "stream",
          "name": "stdout",
          "text": [
            "MoviePy - Done.\n"
          ]
        },
        {
          "output_type": "stream",
          "name": "stderr",
          "text": [
            "\r"
          ]
        }
      ]
    },
    {
      "cell_type": "code",
      "source": [
        "!pip install SpeechRecognition\n",
        "!pip install pydub"
      ],
      "metadata": {
        "id": "XBVKuhkT_keW",
        "colab": {
          "base_uri": "https://localhost:8080/"
        },
        "outputId": "74fd0d11-519d-45ca-e832-31a263d575dd"
      },
      "execution_count": null,
      "outputs": [
        {
          "output_type": "stream",
          "name": "stdout",
          "text": [
            "Collecting SpeechRecognition\n",
            "  Downloading SpeechRecognition-3.10.0-py2.py3-none-any.whl (32.8 MB)\n",
            "\u001b[2K     \u001b[90m━━━━━━━━━━━━━━━━━━━━━━━━━━━━━━━━━━━━━━━━\u001b[0m \u001b[32m32.8/32.8 MB\u001b[0m \u001b[31m12.6 MB/s\u001b[0m eta \u001b[36m0:00:00\u001b[0m\n",
            "\u001b[?25hRequirement already satisfied: requests>=2.26.0 in /usr/local/lib/python3.10/dist-packages (from SpeechRecognition) (2.31.0)\n",
            "Requirement already satisfied: charset-normalizer<4,>=2 in /usr/local/lib/python3.10/dist-packages (from requests>=2.26.0->SpeechRecognition) (3.2.0)\n",
            "Requirement already satisfied: idna<4,>=2.5 in /usr/local/lib/python3.10/dist-packages (from requests>=2.26.0->SpeechRecognition) (3.4)\n",
            "Requirement already satisfied: urllib3<3,>=1.21.1 in /usr/local/lib/python3.10/dist-packages (from requests>=2.26.0->SpeechRecognition) (2.0.4)\n",
            "Requirement already satisfied: certifi>=2017.4.17 in /usr/local/lib/python3.10/dist-packages (from requests>=2.26.0->SpeechRecognition) (2023.7.22)\n",
            "Installing collected packages: SpeechRecognition\n",
            "Successfully installed SpeechRecognition-3.10.0\n",
            "Collecting pydub\n",
            "  Downloading pydub-0.25.1-py2.py3-none-any.whl (32 kB)\n",
            "Installing collected packages: pydub\n",
            "Successfully installed pydub-0.25.1\n"
          ]
        }
      ]
    },
    {
      "cell_type": "code",
      "source": [
        "import speech_recognition as sr\n",
        "\n",
        "def speech_to_text(audio_path, output_path):\n",
        "    r = sr.Recognizer()\n",
        "\n",
        "    with sr.AudioFile(audio_path) as source:\n",
        "        audio = r.record(source)  # Read the entire audio file\n",
        "\n",
        "    try:\n",
        "        text = r.recognize_google(audio)\n",
        "        print(\"Transcript: {}\".format(text))\n",
        "\n",
        "        # Save the transcript as a text file\n",
        "        with open(output_path, \"w\") as file:\n",
        "            file.write(text)\n",
        "        print(\"Transcript saved as: {}\".format(output_path))\n",
        "    except sr.UnknownValueError:\n",
        "        print(\"Speech recognition could not understand audio\")\n",
        "    except sr.RequestError as e:\n",
        "        print(\"Could not request results from Google Speech Recognition service; {0}\".format(e))\n",
        "\n",
        "# Specify the path to your audio file\n",
        "audio_path = \"/content/drive/MyDrive/output_audio.wav\"\n",
        "\n",
        "# Specify the path to save the transcript text file\n",
        "output_path = \"transcript.txt\"\n",
        "\n",
        "# Use the function\n",
        "speech_to_text(audio_path, output_path)"
      ],
      "metadata": {
        "colab": {
          "base_uri": "https://localhost:8080/"
        },
        "id": "uoymuTpMZInM",
        "outputId": "b86df48b-8ac6-438a-a835-1c8e5ca45b98"
      },
      "execution_count": null,
      "outputs": [
        {
          "output_type": "stream",
          "name": "stdout",
          "text": [
            "Transcript: hey guys in this video I'm going to show you how you can download and install Google Chrome browser on your Windows 10 operating system so let's get started so just open your Microsoft edge browser which is the browser available on your Windows operating system when you freshly install Windows 10 or when you buy a notebook or a computer which has a Windows 10 so I'm going to open Microsoft Edge and I'm going to just search for Google Chrome download English okay and you're going to see a bunch of results so what I'm going to do is I'm going to click this link that says www.google.com forward slash Chrome Samsung or when you scroll down you will see this download Chrome button here also and at the end of this webpage you will also see this download Chrome so you cannot miss this download Chrome button on the Google Chrome page so I'm going to just click on the button and then I'm going to say except and install which is going to start the installation process and then you will see here at the bottom of this edge browser this kind of message that says one save and cancel so I'm going to first of all save this file so I'm going to just click on Save which is going to download this chrome setup.exe file on my Windows operating system so at the time of making this video this file is around 1.3 megabyte file so it will be downloaded really fast and once it's downloaded you can just click on the Run button or you can go to the downloads folder so I'm going to go to the downloads folder and you will see this chrome setup here so from here so you can click on the Chrome setup this exe files so I'm going to just click on the Chrome setup file which is going to start the installation of Google Chrome and then click yes and I'm going to minimize this browser here and you can see the installation of the Google Chrome browser has been started so it'll take few minutes depending upon the speed of your Internet to download the Google Chrome browser so I will wait for the download to complete and now you can see the installation process has been started and then installation is done really fast and straight away after the installation the Google Chrome browser will start so this is the browser which is going to start this is the Google Chrome browser and also you will be able to see the Google Chrome icon on your desktop also if you want you can just write click on this Google Chrome icon here on the taskbar and then you can just click on pin to taskbar is going to pin your Google Chrome browser on your taskbar so once you close the Google Chrome browser you can just start your Google Chrome browser from the taskbar also if you want to set your Google Chrome browser as the default browser then you can just click on set as default straight away you will see this message state of installing the Google Chrome browser so here I am going to just click on Google Chrome and then just say switch anyway okay so here you can see now the default browser on my Windows operating system is Google Chrome so any application which was to start a browser on your Windows 10 operating system by default it's going to start that application in your Google Chrome browser so that's what the does so in this way you can download and install Google Chrome browser on your Windows 10 operating system I hope you enjoyed this video and I will see you in the next video\n",
            "Transcript saved as: transcript.txt\n"
          ]
        }
      ]
    },
    {
      "cell_type": "markdown",
      "source": [
        "Exact end time stamp of a line"
      ],
      "metadata": {
        "id": "-I8-_j1mjHO9"
      }
    },
    {
      "cell_type": "code",
      "source": [
        "# import librosa\n",
        "# from datetime import datetime\n",
        "\n",
        "# def generate_timestamps(audio_path, transcript_path):\n",
        "#     audio, sr = librosa.load(audio_path)\n",
        "\n",
        "#     with open(transcript_path) as f:\n",
        "#         transcript = f.read()\n",
        "\n",
        "#     lines = transcript.split(\".\")\n",
        "\n",
        "#     timestamps = []\n",
        "#     current_time = 0\n",
        "\n",
        "#     for line in lines:\n",
        "#         line = line.strip()\n",
        "#         if line:\n",
        "#             words = line.split()\n",
        "\n",
        "#             for word in words:\n",
        "#                 audio_word = audio[int(current_time * sr):int((current_time + len(word.split())) * sr)]\n",
        "#                 word_duration = len(audio_word) / sr\n",
        "#                 current_time += word_duration\n",
        "\n",
        "#             timestamp = datetime.utcfromtimestamp(current_time).strftime(\"%H:%M:%S\")\n",
        "#             timestamps.append(f\"{timestamp} - {line}\")\n",
        "\n",
        "#     timestamps_text = \"\\n\".join(timestamps)\n",
        "\n",
        "#     with open(\"timestamps.txt\", \"w\") as f:\n",
        "#         f.write(timestamps_text)\n",
        "\n",
        "#     print(\"Timestamps generated.\")\n",
        "\n",
        "\n",
        "# # Specify the path to your audio file\n",
        "# audio_path = \"/content/drive/MyDrive/output_audio.wav\"\n",
        "\n",
        "# # Specify the path to your transcript text file\n",
        "# transcript_path = \"transcript.txt\"\n",
        "\n",
        "# # Use the function\n",
        "# generate_timestamps(audio_path, transcript_path)\n"
      ],
      "metadata": {
        "id": "akVynKraYlZ2"
      },
      "execution_count": null,
      "outputs": []
    },
    {
      "cell_type": "markdown",
      "source": [
        "Exact time stamp of every line"
      ],
      "metadata": {
        "id": "fxzIf17gjMsR"
      }
    },
    {
      "cell_type": "code",
      "source": [
        "# import librosa\n",
        "# from datetime import datetime\n",
        "\n",
        "# def generate_timestamps(audio_path, transcript_path):\n",
        "#     audio, sr = librosa.load(audio_path)\n",
        "\n",
        "#     with open(transcript_path) as f:\n",
        "#         transcript = f.read()\n",
        "\n",
        "#     lines = transcript.split(\".\")\n",
        "\n",
        "#     timestamps = []\n",
        "#     current_time = 0\n",
        "\n",
        "#     for line in lines:\n",
        "#         line = line.strip()\n",
        "\n",
        "#         if line:\n",
        "#             words = line.split()\n",
        "\n",
        "#             for word in words:\n",
        "#                 audio_word = librosa.samples_to_time(len(audio)) / len(transcript.split())\n",
        "#                 word_duration = len(word.split()) * audio_word\n",
        "#                 current_time += word_duration\n",
        "\n",
        "#             if not timestamps:\n",
        "#                 timestamp = \"00:00:00\"\n",
        "#             else:\n",
        "#                 timestamp = datetime.utcfromtimestamp(current_time).strftime(\"%H:%M:%S\")\n",
        "\n",
        "#             timestamps.append(f\"{timestamp} - {line}\")\n",
        "\n",
        "#     timestamps_text = \"\\n\".join(timestamps)\n",
        "\n",
        "#     with open(\"timestamps.txt\", \"w\") as f:\n",
        "#         f.write(timestamps_text)\n",
        "\n",
        "#     print(\"Timestamps generated and saved as timestamps.txt\")\n",
        "\n",
        "# # Specify the path to your audio file\n",
        "# audio_path = \"/content/drive/MyDrive/output_audio.wav\"\n",
        "\n",
        "# # Specify the path to your transcript text file\n",
        "# transcript_path = \"transcript.txt\"\n",
        "\n",
        "# # Use the function\n",
        "# generate_timestamps(audio_path, transcript_path)"
      ],
      "metadata": {
        "id": "WkK4d6rPjSPR"
      },
      "execution_count": null,
      "outputs": []
    },
    {
      "cell_type": "markdown",
      "source": [
        "Better time stamp"
      ],
      "metadata": {
        "id": "sn4WN_8ykC3D"
      }
    },
    {
      "cell_type": "code",
      "source": [
        "import librosa\n",
        "from datetime import datetime\n",
        "\n",
        "def generate_timestamps(audio_path, transcript_path):\n",
        "    audio, sr = librosa.load(audio_path)\n",
        "\n",
        "    with open(transcript_path) as f:\n",
        "        transcript = f.read()\n",
        "\n",
        "    lines = transcript.split(\".\")\n",
        "\n",
        "    timestamps = []\n",
        "    current_time = 0\n",
        "\n",
        "    for line in lines:\n",
        "        line = line.strip()\n",
        "\n",
        "        if line:\n",
        "            words = line.split()\n",
        "\n",
        "            for word in words:\n",
        "                audio_word = librosa.samples_to_time(len(audio)) / len(transcript.split())\n",
        "                word_duration = len(word.split()) * audio_word\n",
        "                current_time += word_duration\n",
        "\n",
        "            if not timestamps:\n",
        "                timestamp = \"00:00:00\"\n",
        "            else:\n",
        "                timestamp = datetime.utcfromtimestamp(current_time).strftime(\"%H:%M:%S\")\n",
        "\n",
        "            timestamps.append(f\"{timestamp} - {line}\")\n",
        "\n",
        "    # Adjust the last line timestamp if it exceeds the audio duration\n",
        "    audio_duration = librosa.get_duration(y=audio, sr=sr)\n",
        "    last_timestamp = datetime.utcfromtimestamp(min(current_time, audio_duration)).strftime(\"%H:%M:%S\")\n",
        "    timestamps[-1] = timestamps[-1].replace(timestamp, last_timestamp)\n",
        "\n",
        "    timestamps_text = \"\\n\".join(timestamps)\n",
        "\n",
        "    with open(\"timestamps.txt\", \"w\") as f:\n",
        "        f.write(timestamps_text)\n",
        "\n",
        "    print(\"Timestamps generated and saved as timestamps.txt\")\n",
        "\n",
        "\n",
        "\n",
        "\n",
        "# Specify the path to your audio file\n",
        "audio_path = \"/content/drive/MyDrive/output_audio.wav\"\n",
        "\n",
        "# Specify the path to your transcript text file\n",
        "transcript_path = \"transcript.txt\"\n",
        "\n",
        "# Use the function\n",
        "generate_timestamps(audio_path, transcript_path)"
      ],
      "metadata": {
        "id": "6gwUVW2WkEc5",
        "colab": {
          "base_uri": "https://localhost:8080/"
        },
        "outputId": "9e30ca4f-ace9-4e5d-dd61-95769ab95cce"
      },
      "execution_count": null,
      "outputs": [
        {
          "output_type": "stream",
          "name": "stdout",
          "text": [
            "Timestamps generated and saved as timestamps.txt\n"
          ]
        }
      ]
    },
    {
      "cell_type": "code",
      "source": [
        "!pip install translate"
      ],
      "metadata": {
        "colab": {
          "base_uri": "https://localhost:8080/"
        },
        "id": "-Vjx79X08Sln",
        "outputId": "5edc4a7f-a206-4ba8-9350-85351099632c"
      },
      "execution_count": null,
      "outputs": [
        {
          "output_type": "stream",
          "name": "stdout",
          "text": [
            "Collecting translate\n",
            "  Downloading translate-3.6.1-py2.py3-none-any.whl (12 kB)\n",
            "Requirement already satisfied: click in /usr/local/lib/python3.10/dist-packages (from translate) (8.1.7)\n",
            "Requirement already satisfied: lxml in /usr/local/lib/python3.10/dist-packages (from translate) (4.9.3)\n",
            "Requirement already satisfied: requests in /usr/local/lib/python3.10/dist-packages (from translate) (2.31.0)\n",
            "Collecting libretranslatepy==2.1.1 (from translate)\n",
            "  Downloading libretranslatepy-2.1.1-py3-none-any.whl (3.2 kB)\n",
            "Requirement already satisfied: charset-normalizer<4,>=2 in /usr/local/lib/python3.10/dist-packages (from requests->translate) (3.2.0)\n",
            "Requirement already satisfied: idna<4,>=2.5 in /usr/local/lib/python3.10/dist-packages (from requests->translate) (3.4)\n",
            "Requirement already satisfied: urllib3<3,>=1.21.1 in /usr/local/lib/python3.10/dist-packages (from requests->translate) (2.0.4)\n",
            "Requirement already satisfied: certifi>=2017.4.17 in /usr/local/lib/python3.10/dist-packages (from requests->translate) (2023.7.22)\n",
            "Installing collected packages: libretranslatepy, translate\n",
            "Successfully installed libretranslatepy-2.1.1 translate-3.6.1\n"
          ]
        }
      ]
    },
    {
      "cell_type": "code",
      "source": [
        "from translate import Translator\n",
        "import requests"
      ],
      "metadata": {
        "id": "3ZTfMqWz8K3n"
      },
      "execution_count": null,
      "outputs": []
    },
    {
      "cell_type": "code",
      "source": [
        "!pip install googletrans"
      ],
      "metadata": {
        "colab": {
          "base_uri": "https://localhost:8080/",
          "height": 949
        },
        "id": "yeS0qixI-Gsc",
        "outputId": "3854f8b1-804b-4a3e-89d2-e191982e661a"
      },
      "execution_count": null,
      "outputs": [
        {
          "output_type": "stream",
          "name": "stdout",
          "text": [
            "Collecting googletrans\n",
            "  Downloading googletrans-3.0.0.tar.gz (17 kB)\n",
            "  Preparing metadata (setup.py) ... \u001b[?25l\u001b[?25hdone\n",
            "Collecting httpx==0.13.3 (from googletrans)\n",
            "  Downloading httpx-0.13.3-py3-none-any.whl (55 kB)\n",
            "\u001b[2K     \u001b[90m━━━━━━━━━━━━━━━━━━━━━━━━━━━━━━━━━━━━━━━━\u001b[0m \u001b[32m55.1/55.1 kB\u001b[0m \u001b[31m1.8 MB/s\u001b[0m eta \u001b[36m0:00:00\u001b[0m\n",
            "\u001b[?25hRequirement already satisfied: certifi in /usr/local/lib/python3.10/dist-packages (from httpx==0.13.3->googletrans) (2023.7.22)\n",
            "Collecting hstspreload (from httpx==0.13.3->googletrans)\n",
            "  Downloading hstspreload-2023.1.1-py3-none-any.whl (1.5 MB)\n",
            "\u001b[2K     \u001b[90m━━━━━━━━━━━━━━━━━━━━━━━━━━━━━━━━━━━━━━━━\u001b[0m \u001b[32m1.5/1.5 MB\u001b[0m \u001b[31m21.1 MB/s\u001b[0m eta \u001b[36m0:00:00\u001b[0m\n",
            "\u001b[?25hRequirement already satisfied: sniffio in /usr/local/lib/python3.10/dist-packages (from httpx==0.13.3->googletrans) (1.3.0)\n",
            "Collecting chardet==3.* (from httpx==0.13.3->googletrans)\n",
            "  Downloading chardet-3.0.4-py2.py3-none-any.whl (133 kB)\n",
            "\u001b[2K     \u001b[90m━━━━━━━━━━━━━━━━━━━━━━━━━━━━━━━━━━━━━━━\u001b[0m \u001b[32m133.4/133.4 kB\u001b[0m \u001b[31m8.5 MB/s\u001b[0m eta \u001b[36m0:00:00\u001b[0m\n",
            "\u001b[?25hCollecting idna==2.* (from httpx==0.13.3->googletrans)\n",
            "  Downloading idna-2.10-py2.py3-none-any.whl (58 kB)\n",
            "\u001b[2K     \u001b[90m━━━━━━━━━━━━━━━━━━━━━━━━━━━━━━━━━━━━━━━━\u001b[0m \u001b[32m58.8/58.8 kB\u001b[0m \u001b[31m5.3 MB/s\u001b[0m eta \u001b[36m0:00:00\u001b[0m\n",
            "\u001b[?25hCollecting rfc3986<2,>=1.3 (from httpx==0.13.3->googletrans)\n",
            "  Downloading rfc3986-1.5.0-py2.py3-none-any.whl (31 kB)\n",
            "Collecting httpcore==0.9.* (from httpx==0.13.3->googletrans)\n",
            "  Downloading httpcore-0.9.1-py3-none-any.whl (42 kB)\n",
            "\u001b[2K     \u001b[90m━━━━━━━━━━━━━━━━━━━━━━━━━━━━━━━━━━━━━━━━\u001b[0m \u001b[32m42.6/42.6 kB\u001b[0m \u001b[31m2.8 MB/s\u001b[0m eta \u001b[36m0:00:00\u001b[0m\n",
            "\u001b[?25hCollecting h11<0.10,>=0.8 (from httpcore==0.9.*->httpx==0.13.3->googletrans)\n",
            "  Downloading h11-0.9.0-py2.py3-none-any.whl (53 kB)\n",
            "\u001b[2K     \u001b[90m━━━━━━━━━━━━━━━━━━━━━━━━━━━━━━━━━━━━━━━━\u001b[0m \u001b[32m53.6/53.6 kB\u001b[0m \u001b[31m4.0 MB/s\u001b[0m eta \u001b[36m0:00:00\u001b[0m\n",
            "\u001b[?25hCollecting h2==3.* (from httpcore==0.9.*->httpx==0.13.3->googletrans)\n",
            "  Downloading h2-3.2.0-py2.py3-none-any.whl (65 kB)\n",
            "\u001b[2K     \u001b[90m━━━━━━━━━━━━━━━━━━━━━━━━━━━━━━━━━━━━━━━━\u001b[0m \u001b[32m65.0/65.0 kB\u001b[0m \u001b[31m5.2 MB/s\u001b[0m eta \u001b[36m0:00:00\u001b[0m\n",
            "\u001b[?25hCollecting hyperframe<6,>=5.2.0 (from h2==3.*->httpcore==0.9.*->httpx==0.13.3->googletrans)\n",
            "  Downloading hyperframe-5.2.0-py2.py3-none-any.whl (12 kB)\n",
            "Collecting hpack<4,>=3.0 (from h2==3.*->httpcore==0.9.*->httpx==0.13.3->googletrans)\n",
            "  Downloading hpack-3.0.0-py2.py3-none-any.whl (38 kB)\n",
            "Building wheels for collected packages: googletrans\n",
            "  Building wheel for googletrans (setup.py) ... \u001b[?25l\u001b[?25hdone\n",
            "  Created wheel for googletrans: filename=googletrans-3.0.0-py3-none-any.whl size=15716 sha256=9ed74e46e1647ecf808293a6bbf07ae3b9f88e49d7a0c8d3b9db8d0d3b7e5866\n",
            "  Stored in directory: /root/.cache/pip/wheels/b3/81/ea/8b030407f8ebfc2f857814e086bb22ca2d4fea1a7be63652ab\n",
            "Successfully built googletrans\n",
            "Installing collected packages: rfc3986, hyperframe, hpack, h11, chardet, idna, hstspreload, h2, httpcore, httpx, googletrans\n",
            "  Attempting uninstall: chardet\n",
            "    Found existing installation: chardet 5.2.0\n",
            "    Uninstalling chardet-5.2.0:\n",
            "      Successfully uninstalled chardet-5.2.0\n",
            "  Attempting uninstall: idna\n",
            "    Found existing installation: idna 3.4\n",
            "    Uninstalling idna-3.4:\n",
            "      Successfully uninstalled idna-3.4\n",
            "Successfully installed chardet-3.0.4 googletrans-3.0.0 h11-0.9.0 h2-3.2.0 hpack-3.0.0 hstspreload-2023.1.1 httpcore-0.9.1 httpx-0.13.3 hyperframe-5.2.0 idna-2.10 rfc3986-1.5.0\n"
          ]
        },
        {
          "output_type": "display_data",
          "data": {
            "application/vnd.colab-display-data+json": {
              "pip_warning": {
                "packages": [
                  "chardet",
                  "idna"
                ]
              }
            }
          },
          "metadata": {}
        }
      ]
    },
    {
      "cell_type": "code",
      "source": [
        "from translate import Translator"
      ],
      "metadata": {
        "id": "cngWKtVf-BS8"
      },
      "execution_count": null,
      "outputs": []
    },
    {
      "cell_type": "markdown",
      "source": [
        "For different language"
      ],
      "metadata": {
        "id": "ljuFRQCo6TmA"
      }
    },
    {
      "cell_type": "code",
      "source": [
        "def translate_transcript(transcript_path, target_language):\n",
        "    # Read the transcript file\n",
        "    with open(transcript_path, 'r') as file:\n",
        "        transcript = file.read()\n",
        "\n",
        "    # Translate the transcript to the target language\n",
        "    translator = Translator(to_lang=target_language)\n",
        "    translated_text = translator.translate(transcript)\n",
        "\n",
        "    # Save the translated transcript to a file\n",
        "    translated_path = f\"translated_{target_language}.txt\"\n",
        "    with open(translated_path, 'w') as file:\n",
        "        file.write(translated_text)\n",
        "\n",
        "    print(f\"Transcript translated to {target_language} and saved to {translated_path}.\")\n",
        "\n",
        "# Example usage\n",
        "transcript_path = \"transcript.txt\"\n",
        "target_language = \"fr\"\n",
        "translate_transcript(transcript_path, target_language)"
      ],
      "metadata": {
        "colab": {
          "base_uri": "https://localhost:8080/"
        },
        "id": "vawFsJQ_6Wn9",
        "outputId": "f21b7ede-d3c6-45fc-e227-3a2028927dcf"
      },
      "execution_count": null,
      "outputs": [
        {
          "output_type": "stream",
          "name": "stdout",
          "text": [
            "Transcript translated to fr and saved to translated_fr.txt.\n"
          ]
        }
      ]
    }
  ]
}